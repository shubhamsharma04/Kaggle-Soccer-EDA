{
 "cells": [
  {
   "cell_type": "code",
   "execution_count": 45,
   "metadata": {
    "collapsed": true
   },
   "outputs": [],
   "source": [
    "player_data_frame <- read.csv(file='/home/opensam/Programs/jupyter/lab2/player.csv')\n",
    "team_data_frame <- read.csv(file='/home/opensam/Programs/jupyter/lab2/team.csv')"
   ]
  },
  {
   "cell_type": "markdown",
   "metadata": {},
   "source": [
    "Credit for ordering a dataframe based on a column : http://www.statmethods.net/management/sorting.html"
   ]
  },
  {
   "cell_type": "markdown",
   "metadata": {},
   "source": [
    "<h2>Q - Which are the top 10 players by overall rating?</h2>"
   ]
  },
  {
   "cell_type": "code",
   "execution_count": 46,
   "metadata": {
    "collapsed": false
   },
   "outputs": [
    {
     "name": "stdout",
     "output_type": "stream",
     "text": [
      "     player_api_id       player_name overall_rating\n",
      "2039         30981      Lionel Messi             94\n",
      "1891         30717  Gianluigi Buffon             93\n",
      "1937         30829      Wayne Rooney             93\n",
      "1980         30893 Cristiano Ronaldo             93\n",
      "3770         39854    Xavi Hernandez             92\n",
      "3796         39989    Gregory Coupet             92\n",
      "1831         30626     Thierry Henry             91\n",
      "1832         30627        John Terry             91\n",
      "1847         30657     Iker Casillas             91\n",
      "1895         30723  Alessandro Nesta             91\n"
     ]
    }
   ],
   "source": [
    "player_data_frame <- player_data_frame[order(-player_data_frame$overall_rating),]\n",
    "print(player_data_frame[1:10,c(\"player_api_id\",\"player_name\",\"overall_rating\")])"
   ]
  },
  {
   "cell_type": "markdown",
   "metadata": {},
   "source": [
    "<h2>Q - Which are the top 10 goalkeepers by sum of gk attributes?</h2>"
   ]
  },
  {
   "cell_type": "code",
   "execution_count": 47,
   "metadata": {
    "collapsed": false
   },
   "outputs": [
    {
     "name": "stdout",
     "output_type": "stream",
     "text": [
      "     player_api_id       player_name gk_attributes_sum\n",
      "1891         30717  Gianluigi Buffon               449\n",
      "3796         39989    Gregory Coupet               447\n",
      "1959         30859         Petr Cech               445\n",
      "1847         30657     Iker Casillas               442\n",
      "1496         27299      Manuel Neuer               440\n",
      "2044         30989       Julio Cesar               438\n",
      "835          24503    Sebastian Frey               437\n",
      "1898         30726 Edwin van der Sar               436\n",
      "7550        182917      David De Gea               429\n",
      "1849         30660        Pepe Reina               428\n"
     ]
    }
   ],
   "source": [
    "player_data_frame <- player_data_frame[order(-player_data_frame$gk_attributes_sum),]\n",
    "print(player_data_frame[1:10,c(\"player_api_id\",\"player_name\",\"gk_attributes_sum\")])"
   ]
  },
  {
   "cell_type": "markdown",
   "metadata": {},
   "source": [
    "<h2>Q - Which are the top 10 players by number of appearances (with any team they played with)?</h2>"
   ]
  },
  {
   "cell_type": "code",
   "execution_count": 48,
   "metadata": {
    "collapsed": false
   },
   "outputs": [
    {
     "name": "stdout",
     "output_type": "stream",
     "text": [
      "     player_api_id          player_name match_count\n",
      "2090         31293       Steve Mandanda         300\n",
      "4030         41097     Stephane Ruffier         294\n",
      "4335         42422     Samir Handanovic         286\n",
      "2483         33764 Gorka Iraizoz Moreno         286\n",
      "1237         26295          Hugo Lloris         282\n",
      "2118         31465           Tim Howard         282\n",
      "2111         31432             Joe Hart         275\n",
      "1178         26168      Cedric Carrasso         268\n",
      "1290         26399        Daniel Congre         262\n",
      "5450         94550       Moussa Sissoko         260\n"
     ]
    }
   ],
   "source": [
    "player_data_frame <- player_data_frame[order(-player_data_frame$match_count),]\n",
    "print(player_data_frame[1:10,c(\"player_api_id\",\"player_name\",\"match_count\")])"
   ]
  },
  {
   "cell_type": "markdown",
   "metadata": {},
   "source": [
    "<h2>Q - Which are the top 10 players by number of leagues they played in?</h2>"
   ]
  },
  {
   "cell_type": "code",
   "execution_count": 49,
   "metadata": {
    "collapsed": false
   },
   "outputs": [
    {
     "name": "stdout",
     "output_type": "stream",
     "text": [
      "     player_api_id           player_name league_count\n",
      "4281         42119      Gelson Fernandes            6\n",
      "6104        116750 Ricky van Wolfswinkel            5\n",
      "7339        178538        Filip Djuricic            5\n",
      "5395         93484          Aly Cissokho            4\n",
      "2919         36784   Klaas Jan Huntelaar            4\n",
      "4638         46509        Angel Di Maria            4\n",
      "3284         38229            Bryan Ruiz            4\n",
      "2095         31300               Rolando            4\n",
      "1947         30841  Maarten Stekelenburg            4\n",
      "485          22543        Radamel Falcao            4\n"
     ]
    }
   ],
   "source": [
    "player_data_frame <- player_data_frame[order(-player_data_frame$league_count),]\n",
    "print(player_data_frame[1:10,c(\"player_api_id\",\"player_name\",\"league_count\")])"
   ]
  },
  {
   "cell_type": "markdown",
   "metadata": {},
   "source": [
    "<h2>Q - Which are the top 10 teams by sum of build up play attributes?</h2>"
   ]
  },
  {
   "cell_type": "code",
   "execution_count": 50,
   "metadata": {
    "collapsed": false
   },
   "outputs": [
    {
     "name": "stdout",
     "output_type": "stream",
     "text": [
      "    team_api_id             team_long_name buildup_attributes_sum\n",
      "187        9804                     Torino                    209\n",
      "135        8600                    Udinese                    205\n",
      "56         8194         Fortuna Düsseldorf                    198\n",
      "48         8033 Podbeskidzie Bielsko-Biała                    193\n",
      "63         8245              Korona Kielce                    192\n",
      "42         8024                Widzew Łódź                    190\n",
      "62         8244                Widzew Łódź                    190\n",
      "298      208931                      Carpi                    190\n",
      "198        9830                  FC Nantes                    189\n",
      "34         7943                   Sassuolo                    188\n"
     ]
    }
   ],
   "source": [
    "team_data_frame <- team_data_frame[order(-team_data_frame$buildup_attributes_sum),]\n",
    "print(team_data_frame[1:10,c(\"team_api_id\",\"team_long_name\",\"buildup_attributes_sum\")])"
   ]
  },
  {
   "cell_type": "markdown",
   "metadata": {},
   "source": [
    "<h2>Q - Which are the top 10 teams by sum of chance creation attributes?</h2>"
   ]
  },
  {
   "cell_type": "code",
   "execution_count": 51,
   "metadata": {
    "collapsed": false
   },
   "outputs": [
    {
     "name": "stdout",
     "output_type": "stream",
     "text": [
      "    team_api_id      team_long_name chance_attributes_sum\n",
      "101        8485            Aberdeen                   210\n",
      "185        9800          St. Mirren                   210\n",
      "151        8658     Birmingham City                   210\n",
      "74         8344        Cardiff City                   210\n",
      "210        9860 Heart of Midlothian                   210\n",
      "54         8178 Bayer 04 Leverkusen                   210\n",
      "55         8191             Burnley                   210\n",
      "115        8548             Rangers                   210\n",
      "184        9798             Reading                   210\n",
      "258       10172 Queens Park Rangers                   210\n"
     ]
    }
   ],
   "source": [
    "team_data_frame <- team_data_frame[order(-team_data_frame$chance_attributes_sum),]\n",
    "print(team_data_frame[1:10,c(\"team_api_id\",\"team_long_name\",\"chance_attributes_sum\")])"
   ]
  },
  {
   "cell_type": "markdown",
   "metadata": {},
   "source": [
    "<h2>Q - Which are the top 10 teams by sum of defense attributes? </h2>"
   ]
  },
  {
   "cell_type": "code",
   "execution_count": 52,
   "metadata": {
    "collapsed": false
   },
   "outputs": [
    {
     "name": "stdout",
     "output_type": "stream",
     "text": [
      "    team_api_id          team_long_name defence_attributes_sum\n",
      "151        8658         Birmingham City                    210\n",
      "74         8344            Cardiff City                    210\n",
      "258       10172     Queens Park Rangers                    210\n",
      "136        8602 Wolverhampton Wanderers                    210\n",
      "256       10003            Swansea City                    210\n",
      "100        8483               Blackpool                    210\n",
      "94         8466             Southampton                    210\n",
      "158        8678             Bournemouth                    210\n",
      "154        8667               Hull City                    210\n",
      "152        8659    West Bromwich Albion                    210\n"
     ]
    }
   ],
   "source": [
    "team_data_frame <- team_data_frame[order(-team_data_frame$defence_attributes_sum),]\n",
    "print(team_data_frame[1:10,c(\"team_api_id\",\"team_long_name\",\"defence_attributes_sum\")])"
   ]
  },
  {
   "cell_type": "markdown",
   "metadata": {},
   "source": [
    "<h2> Q - Which are the top 10 teams by number of fielded players </h2>"
   ]
  },
  {
   "cell_type": "code",
   "execution_count": 53,
   "metadata": {
    "collapsed": false
   },
   "outputs": [
    {
     "name": "stdout",
     "output_type": "stream",
     "text": [
      "    team_api_id       team_long_name players_fielded\n",
      "277       10233                Genoa             138\n",
      "279       10238      Vitória Setúbal             122\n",
      "287       10264             SC Braga             121\n",
      "134        8597           Kilmarnock             115\n",
      "243        9985    Standard de Liège             114\n",
      "208        9857              Bologna             113\n",
      "30         7844    Vitória Guimarães             109\n",
      "223        9882            Sampdoria             108\n",
      "271       10215 Académica de Coimbra             108\n",
      "234        9925               Celtic             106\n"
     ]
    }
   ],
   "source": [
    "team_data_frame <- team_data_frame[order(-team_data_frame$players_fielded),]\n",
    "print(team_data_frame[1:10,c(\"team_api_id\",\"team_long_name\",\"players_fielded\")])"
   ]
  },
  {
   "cell_type": "code",
   "execution_count": null,
   "metadata": {
    "collapsed": true
   },
   "outputs": [],
   "source": []
  }
 ],
 "metadata": {
  "kernelspec": {
   "display_name": "R",
   "language": "R",
   "name": "ir"
  },
  "language_info": {
   "codemirror_mode": "r",
   "file_extension": ".r",
   "mimetype": "text/x-r-source",
   "name": "R",
   "pygments_lexer": "r",
   "version": "3.3.2"
  }
 },
 "nbformat": 4,
 "nbformat_minor": 2
}
