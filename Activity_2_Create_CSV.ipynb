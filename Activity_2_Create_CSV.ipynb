{
 "cells": [
  {
   "cell_type": "code",
   "execution_count": 211,
   "metadata": {
    "collapsed": false
   },
   "outputs": [],
   "source": [
    "library(hash)\n",
    "library(dplyr)"
   ]
  },
  {
   "cell_type": "code",
   "execution_count": 213,
   "metadata": {
    "collapsed": false
   },
   "outputs": [],
   "source": [
    "my_db <- src_sqlite('database.sqlite', create = FALSE)"
   ]
  },
  {
   "cell_type": "markdown",
   "metadata": {},
   "source": [
    "Get all the players. Btw you can get Kaggle Soceer DB from https://www.kaggle.com/hugomathien/soccer "
   ]
  },
  {
   "cell_type": "markdown",
   "metadata": {},
   "source": [
    "Credit for ordering a dataframe based on a column : http://www.statmethods.net/management/sorting.html\n",
    "\n",
    "Credit for reading data from a database : https://cran.rstudio.com/web/packages/dplyr/vignettes/introduction.html\n",
    "\n",
    "Credit for merging 2 dataframes : http://www.statmethods.net/management/merging.html"
   ]
  },
  {
   "cell_type": "code",
   "execution_count": 238,
   "metadata": {
    "collapsed": true
   },
   "outputs": [],
   "source": [
    "player_data_frame <- as.data.frame(player <- tbl(my_db, sql(\"SELECT player_api_id,player_name FROM Player\")))"
   ]
  },
  {
   "cell_type": "markdown",
   "metadata": {},
   "source": [
    "Get all the rankings from player_attribute table and sort them \n"
   ]
  },
  {
   "cell_type": "code",
   "execution_count": 239,
   "metadata": {
    "collapsed": true
   },
   "outputs": [],
   "source": [
    "sql_stat <- \"Select l.overall_rating as overall_rating, p.player_api_id from Player_Attributes l inner join Player p where l.player_api_id=p.player_api_id\"\n",
    "league_id_data_frame <- as.data.frame(tbl(my_db, sql(sql_stat)))\n",
    "newdata <- league_id_data_frame[order(-league_id_data_frame$overall_rating),] "
   ]
  },
  {
   "cell_type": "markdown",
   "metadata": {},
   "source": [
    "Since there are multiple rankings for many players, we'll take the highest rankings of each player. This step might take some time to finish"
   ]
  },
  {
   "cell_type": "code",
   "execution_count": 240,
   "metadata": {
    "collapsed": true
   },
   "outputs": [],
   "source": [
    "player_rank_map <- hash()\n",
    "rows_to_be_deleted <- hash()\n",
    " i=1\n",
    " length <- nrow(newdata)\n",
    " \n",
    " while(i<= length){\n",
    " player_api_id <- as.character(newdata[i,]$player_api_id)\n",
    " \n",
    " if(has.key(player_api_id,player_rank_map)){\n",
    "    rows_to_be_deleted[[as.character(i)]] <- 1\n",
    "     \n",
    "} else {\n",
    "    player_rank_map[[player_api_id]] <- 1 \n",
    " }\n",
    "i = i+1\n",
    "}\n",
    "\n",
    "newdata <- newdata[ -c(as.numeric(keys(rows_to_be_deleted))),]"
   ]
  },
  {
   "cell_type": "markdown",
   "metadata": {},
   "source": [
    "Append rankings to player data frame"
   ]
  },
  {
   "cell_type": "code",
   "execution_count": 241,
   "metadata": {
    "collapsed": true
   },
   "outputs": [],
   "source": [
    "player_data_frame <- merge(player_data_frame,newdata,by=\"player_api_id\",all.x=TRUE)"
   ]
  },
  {
   "cell_type": "markdown",
   "metadata": {},
   "source": [
    "Get the GoalKeepers "
   ]
  },
  {
   "cell_type": "code",
   "execution_count": 242,
   "metadata": {
    "collapsed": false
   },
   "outputs": [],
   "source": [
    "sql_stat <- \"select p.player_api_id, l.gk_diving+l.gk_handling+l.gk_kicking+l.gk_positioning+l.gk_reflexes as gk_attributes_sum from Player_Attributes l inner join Player p where p.player_api_id=l.player_api_id and gk_diving is not null and gk_handling is not null and  gk_kicking is not null and  gk_positioning is not null and  gk_reflexes is not null\"\n",
    "goalie_data_frame <- as.data.frame(tbl(my_db, sql(sql_stat)))\n",
    "goalie_data_frame <- goalie_data_frame[order(-goalie_data_frame$gk_attributes_sum),]"
   ]
  },
  {
   "cell_type": "markdown",
   "metadata": {},
   "source": [
    "Since there are multiple gk_attributes_sum for many players, we'll take the highest rankings of each player. This step might take some time to finish"
   ]
  },
  {
   "cell_type": "code",
   "execution_count": 243,
   "metadata": {
    "collapsed": true
   },
   "outputs": [],
   "source": [
    "player_rank_map <- hash()\n",
    "rows_to_be_deleted <- hash()\n",
    " i=1\n",
    " length <- nrow(goalie_data_frame)\n",
    " \n",
    " while(i<= length){\n",
    " player_api_id <- as.character(goalie_data_frame[i,]$player_api_id)\n",
    " \n",
    " if(has.key(player_api_id,player_rank_map)){\n",
    "    rows_to_be_deleted[[as.character(i)]] <- 1\n",
    "     \n",
    "} else {\n",
    "    player_rank_map[[player_api_id]] <- 1 \n",
    " }\n",
    "i = i+1\n",
    "}\n",
    "\n",
    "goalie_data_frame <- goalie_data_frame[ -c(as.numeric(keys(rows_to_be_deleted))),]"
   ]
  },
  {
   "cell_type": "markdown",
   "metadata": {},
   "source": [
    "Append gk_attributes to player data frame"
   ]
  },
  {
   "cell_type": "code",
   "execution_count": 244,
   "metadata": {
    "collapsed": true
   },
   "outputs": [],
   "source": [
    "player_data_frame <- merge(player_data_frame,goalie_data_frame,by=\"player_api_id\",all.x=TRUE)"
   ]
  },
  {
   "cell_type": "markdown",
   "metadata": {},
   "source": [
    "Get the matches"
   ]
  },
  {
   "cell_type": "code",
   "execution_count": 245,
   "metadata": {
    "collapsed": false
   },
   "outputs": [],
   "source": [
    " sql_stat <- \"Select count(l.id) as match_count, p.player_api_id from Match l inner join Player p where l.home_player_1=p.player_api_id or  l.home_player_2=p.player_api_id or  l.home_player_3=p.player_api_id or  l.home_player_4=p.player_api_id or  l.home_player_5=p.player_api_id or  l.home_player_6=p.player_api_id or  l.home_player_7=p.player_api_id or  l.home_player_8=p.player_api_id or  l.home_player_9=p.player_api_id or  l.home_player_10=p.player_api_id or l.home_player_11=p.player_api_id or l.away_player_1=p.player_api_id or  l.away_player_2=p.player_api_id or  l.away_player_3=p.player_api_id or  l.away_player_4=p.player_api_id or  l.away_player_5=p.player_api_id or  l.away_player_6=p.player_api_id or  l.away_player_7=p.player_api_id or  l.away_player_8=p.player_api_id or  l.away_player_9=p.player_api_id or  l.away_player_10=p.player_api_id or l.away_player_11=p.player_api_id group by p.player_api_id\"\n",
    " match_id_data_frame <- as.data.frame(player <- tbl(my_db, sql(sql_stat)))\n"
   ]
  },
  {
   "cell_type": "markdown",
   "metadata": {},
   "source": [
    "Merge Data"
   ]
  },
  {
   "cell_type": "code",
   "execution_count": 246,
   "metadata": {
    "collapsed": true
   },
   "outputs": [],
   "source": [
    "player_data_frame <- merge(player_data_frame,match_id_data_frame,by=\"player_api_id\",all.x=TRUE)"
   ]
  },
  {
   "cell_type": "markdown",
   "metadata": {},
   "source": [
    "Get the leagues"
   ]
  },
  {
   "cell_type": "code",
   "execution_count": 247,
   "metadata": {
    "collapsed": true
   },
   "outputs": [],
   "source": [
    " sql_stat <- \"Select count(distinct(l.league_id)) as league_count, p.player_api_id from Match l inner join Player p where l.home_player_1=p.player_api_id or  l.home_player_2=p.player_api_id or  l.home_player_3=p.player_api_id or  l.home_player_4=p.player_api_id or  l.home_player_5=p.player_api_id or  l.home_player_6=p.player_api_id or  l.home_player_7=p.player_api_id or  l.home_player_8=p.player_api_id or  l.home_player_9=p.player_api_id or  l.home_player_10=p.player_api_id or l.home_player_11=p.player_api_id or l.away_player_1=p.player_api_id or  l.away_player_2=p.player_api_id or  l.away_player_3=p.player_api_id or  l.away_player_4=p.player_api_id or  l.away_player_5=p.player_api_id or  l.away_player_6=p.player_api_id or  l.away_player_7=p.player_api_id or  l.away_player_8=p.player_api_id or  l.away_player_9=p.player_api_id or  l.away_player_10=p.player_api_id or l.away_player_11=p.player_api_id group by p.player_api_id\"\n",
    "league_id_data_frame <- as.data.frame(player <- tbl(my_db, sql(sql_stat)))"
   ]
  },
  {
   "cell_type": "markdown",
   "metadata": {},
   "source": [
    "Merge Data"
   ]
  },
  {
   "cell_type": "code",
   "execution_count": 248,
   "metadata": {
    "collapsed": true
   },
   "outputs": [],
   "source": [
    "player_data_frame <- merge(player_data_frame,league_id_data_frame,by=\"player_api_id\",all.x=TRUE)"
   ]
  },
  {
   "cell_type": "markdown",
   "metadata": {},
   "source": [
    "******** Player Finished ******* **** Team Begins ******"
   ]
  },
  {
   "cell_type": "markdown",
   "metadata": {},
   "source": [
    "Get Team build up attributes and Merge them"
   ]
  },
  {
   "cell_type": "code",
   "execution_count": 249,
   "metadata": {
    "collapsed": false
   },
   "outputs": [],
   "source": [
    "team_data_frame <- as.data.frame(player <- tbl(my_db, sql(\"SELECT team_api_id,team_long_name FROM Team\")))"
   ]
  },
  {
   "cell_type": "code",
   "execution_count": 250,
   "metadata": {
    "collapsed": true
   },
   "outputs": [],
   "source": [
    "sql_stat <- \"select team_api_id, buildUpPlaySpeed+buildUpPlaySpeedClass+buildUpPlayDribbling+buildUpPlayDribblingClass+buildUpPlayPassing+buildUpPlayPassingClass+buildUpPlayPositioningClass as buildup_attributes_sum from Team_Attributes where  buildUpPlaySpeed is not null and buildUpPlaySpeedClass is not null and  buildUpPlayDribbling is not null and  buildUpPlayDribblingClass is not null and  buildUpPlayPassing  is not null  and buildUpPlayPassingClass is not null and buildUpPlayPositioningClass is not null \"\n",
    "team_build_data_frame <- as.data.frame(tbl(my_db, sql(sql_stat)))\n",
    "team_build_data_frame <- team_build_data_frame[order(-team_build_data_frame$buildup_attributes_sum),]"
   ]
  },
  {
   "cell_type": "code",
   "execution_count": 251,
   "metadata": {
    "collapsed": false
   },
   "outputs": [],
   "source": [
    "rank_map <- hash()\n",
    "rows_to_be_deleted <- hash()\n",
    " i=1\n",
    " length <- nrow(team_build_data_frame)\n",
    " \n",
    " while(i<= length){\n",
    " team_api_id <- as.character(team_build_data_frame[i,]$team_api_id)\n",
    " \n",
    " if(has.key(team_api_id,rank_map)){\n",
    "    rows_to_be_deleted[[as.character(i)]] <- 1\n",
    "     \n",
    "} else {\n",
    "    rank_map[[team_api_id]] <- 1 \n",
    " }\n",
    "i = i+1\n",
    "}\n",
    "\n",
    "team_build_data_frame <- team_build_data_frame[ -c(as.numeric(keys(rows_to_be_deleted))),]\n",
    "team_data_frame <- merge(team_data_frame,team_build_data_frame,by=\"team_api_id\",all.x=TRUE)\n"
   ]
  },
  {
   "cell_type": "markdown",
   "metadata": {},
   "source": [
    "Get Team chance creation and merge them. I hate copy pasting :)"
   ]
  },
  {
   "cell_type": "code",
   "execution_count": 252,
   "metadata": {
    "collapsed": true
   },
   "outputs": [],
   "source": [
    "sql_stat <- \"select team_api_id, chanceCreationPassing + chanceCreationPassingClass + chanceCreationCrossing + chanceCreationCrossingClass + chanceCreationShooting + chanceCreationShootingClass + chanceCreationPositioningClass as chance_attributes_sum from Team_Attributes where  chanceCreationPassing is not null and chanceCreationPassingClass is not null and  chanceCreationCrossing is not null and  chanceCreationCrossingClass is not null and  chanceCreationShooting  is not null  and chanceCreationShootingClass is not null and chanceCreationPositioningClass is not null \"\n",
    "team_chance_data_frame <- as.data.frame(tbl(my_db, sql(sql_stat)))"
   ]
  },
  {
   "cell_type": "code",
   "execution_count": 253,
   "metadata": {
    "collapsed": false
   },
   "outputs": [],
   "source": [
    "rank_map <- hash()\n",
    "rows_to_be_deleted <- hash()\n",
    " i=1\n",
    " length <- nrow(team_chance_data_frame)\n",
    " \n",
    " while(i<= length){\n",
    " team_api_id <- as.character(team_chance_data_frame[i,]$team_api_id)\n",
    " \n",
    " if(has.key(team_api_id,rank_map)){\n",
    "    rows_to_be_deleted[[as.character(i)]] <- 1\n",
    "     \n",
    "} else {\n",
    "    rank_map[[team_api_id]] <- 1 \n",
    " }\n",
    "i = i+1\n",
    "}\n",
    "\n",
    "team_chance_data_frame <- team_chance_data_frame[ -c(as.numeric(keys(rows_to_be_deleted))),]\n",
    "team_data_frame <- merge(team_data_frame,team_chance_data_frame,by=\"team_api_id\",all.x=TRUE)\n"
   ]
  },
  {
   "cell_type": "markdown",
   "metadata": {},
   "source": [
    "Get Defence attributes"
   ]
  },
  {
   "cell_type": "code",
   "execution_count": 254,
   "metadata": {
    "collapsed": true
   },
   "outputs": [],
   "source": [
    "sql_stat <- \"select team_api_id, defencePressure + defencePressureClass + defenceAggression + defenceAggressionClass + defenceTeamWidth + defenceTeamWidthClass + defenceDefenderLineClass as defence_attributes_sum from Team_Attributes where  defencePressure is not null and defencePressureClass is not null and  defenceAggression is not null and  defenceAggressionClass is not null and  defenceTeamWidth  is not null  and defenceTeamWidthClass is not null and defenceDefenderLineClass is not null \"\n",
    "team_defence_data_frame <- as.data.frame(tbl(my_db, sql(sql_stat)))"
   ]
  },
  {
   "cell_type": "code",
   "execution_count": 255,
   "metadata": {
    "collapsed": false
   },
   "outputs": [],
   "source": [
    "rank_map <- hash()\n",
    "rows_to_be_deleted <- hash()\n",
    " i=1\n",
    " length <- nrow(team_defence_data_frame)\n",
    " \n",
    " while(i<= length){\n",
    " team_api_id <- as.character(team_defence_data_frame[i,]$team_api_id)\n",
    " \n",
    " if(has.key(team_api_id,rank_map)){\n",
    "    rows_to_be_deleted[[as.character(i)]] <- 1\n",
    "     \n",
    "} else {\n",
    "    rank_map[[team_api_id]] <- 1 \n",
    " }\n",
    "i = i+1\n",
    "}\n",
    "\n",
    "team_defence_data_frame <- team_defence_data_frame[ -c(as.numeric(keys(rows_to_be_deleted))),]\n",
    "team_data_frame <- merge(team_data_frame,team_defence_data_frame,by=\"team_api_id\",all.x=TRUE)"
   ]
  },
  {
   "cell_type": "markdown",
   "metadata": {},
   "source": [
    "Get Players Fielded. Get players fielded by team as home team and as away team and join them"
   ]
  },
  {
   "cell_type": "code",
   "execution_count": 256,
   "metadata": {
    "collapsed": false
   },
   "outputs": [],
   "source": [
    "sql_stat <- \"select ifnull(home_player_1,-1) as player_1,ifnull(home_player_2,-1) as player_2,ifnull(home_player_3,-1) as player_3,ifnull(home_player_4,-1) as player_4,ifnull(home_player_5,-1) player_5,ifnull(home_player_6,-1) player_6,ifnull(home_player_7,-1) player_7,ifnull(home_player_8,-1) player_8,ifnull(home_player_9,-1) player_9,ifnull(home_player_10,-1) player_10,ifnull(home_player_11,-1) player_11, home_team_api_id as team_api_id from Match\"\n",
    "matches_home_player_data_frame <- as.data.frame(tbl(my_db, sql(sql_stat)))\n",
    "\n",
    "sql_stat <- \"select ifnull(away_player_1,-1) as player_1,ifnull(away_player_2,-1) as player_2,ifnull(away_player_3,-1) as player_3,ifnull(away_player_4,-1) as player_4,ifnull(away_player_5,-1) player_5,ifnull(away_player_6,-1) player_6,ifnull(away_player_7,-1) player_7,ifnull(away_player_8,-1) player_8,ifnull(away_player_9,-1) player_9,ifnull(away_player_10,-1) player_10,ifnull(away_player_11,-1) player_11, away_team_api_id as team_api_id from Match\"\n",
    "matches_away_player_data_frame <- as.data.frame(tbl(my_db, sql(sql_stat)))\n",
    "matches_player_data_frame <- bind_rows(matches_home_player_data_frame,matches_away_player_data_frame)"
   ]
  },
  {
   "cell_type": "code",
   "execution_count": 257,
   "metadata": {
    "collapsed": true
   },
   "outputs": [],
   "source": [
    "sql_stat <- \"Select team_api_id from Team\"\n",
    "team_id_data_frame <- as.data.frame(tbl(my_db, sql(sql_stat)))"
   ]
  },
  {
   "cell_type": "code",
   "execution_count": 258,
   "metadata": {
    "collapsed": true
   },
   "outputs": [],
   "source": [
    "i <-1\n",
    "\n",
    "team_id_data_frame[\"players_fielded\"] <- 0\n",
    "length_teams <- nrow(team_id_data_frame)\n",
    "\n",
    "while(i < length_teams){\n",
    "    count<-0\n",
    "    \n",
    "    df_this_team <- matches_player_data_frame[matches_player_data_frame$team_api_id %in% team_id_data_frame[i,1],]\n",
    "    \n",
    "    count<- n_distinct(c(df_this_team$player_1,df_this_team$player_2,df_this_team$player_3,df_this_team$player_4,df_this_team$player_5,df_this_team$player_6,df_this_team$player_7,df_this_team$player_8,df_this_team$player_9,df_this_team$player_10,df_this_team$player_11))-1\n",
    "    \n",
    "    team_id_data_frame[team_id_data_frame$team_api_id %in% team_id_data_frame[i,1],\"players_fielded\"] <- count\n",
    "   \n",
    "    i = i+1\n",
    "}"
   ]
  },
  {
   "cell_type": "markdown",
   "metadata": {},
   "source": [
    "Merge Data"
   ]
  },
  {
   "cell_type": "code",
   "execution_count": 259,
   "metadata": {
    "collapsed": false
   },
   "outputs": [],
   "source": [
    "team_data_frame <- merge(team_data_frame,team_id_data_frame,by=\"team_api_id\",all.x=TRUE)"
   ]
  },
  {
   "cell_type": "markdown",
   "metadata": {},
   "source": [
    "Write the csv"
   ]
  },
  {
   "cell_type": "code",
   "execution_count": 260,
   "metadata": {
    "collapsed": false
   },
   "outputs": [],
   "source": [
    "write.table(player_data_frame,file=\"/home/opensam/Programs/jupyter/lab2/player.csv\",sep=\",\")\n",
    "write.table(team_data_frame,file=\"/home/opensam/Programs/jupyter/lab2/team.csv\",sep=\",\")"
   ]
  },
  {
   "cell_type": "code",
   "execution_count": null,
   "metadata": {
    "collapsed": true
   },
   "outputs": [],
   "source": []
  }
 ],
 "metadata": {
  "kernelspec": {
   "display_name": "R",
   "language": "R",
   "name": "ir"
  },
  "language_info": {
   "codemirror_mode": "r",
   "file_extension": ".r",
   "mimetype": "text/x-r-source",
   "name": "R",
   "pygments_lexer": "r",
   "version": "3.3.2"
  }
 },
 "nbformat": 4,
 "nbformat_minor": 2
}
